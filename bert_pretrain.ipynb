{
 "cells": [
  {
   "metadata": {},
   "cell_type": "markdown",
   "source": "# Set-up",
   "id": "38eca4208191e2f0"
  },
  {
   "metadata": {
    "ExecuteTime": {
     "end_time": "2024-05-08T15:42:35.788782Z",
     "start_time": "2024-05-08T15:42:32.349156Z"
    }
   },
   "cell_type": "code",
   "source": [
    "import torch\n",
    "import time\n",
    "import pandas as pd\n",
    "import transformers\n",
    "from transformers import BertTokenizer, BertForSequenceClassification\n",
    "from torch.utils.data import Dataset, DataLoader\n",
    "from sklearn.model_selection import train_test_split\n",
    "transformers.logging.set_verbosity_error()\n",
    "\n",
    "# Check if GPU is available and set the device accordingly\n",
    "device = torch.device('cuda' if torch.cuda.is_available() else 'cpu')\n",
    "\n",
    "# Read the CSV file using pandas\n",
    "def read_data_from_csv(csv_file):\n",
    "    df = pd.read_csv(csv_file)\n",
    "\n",
    "    # Extract claim, evidence, and labels\n",
    "    claims = df['Claim'].tolist()\n",
    "    evidence = df['Evidence'].tolist()  \n",
    "    labels = df['label'].tolist()  \n",
    "\n",
    "    return claims, evidence, labels\n",
    "\n",
    "def time_string(seconds):\n",
    "    minutes = int(seconds / 60) % 60\n",
    "    hours = int(seconds / (60 * 60)) % 24\n",
    "    seconds = int(seconds) % 60\n",
    "    output = f\"{seconds}s\"\n",
    "    if minutes >= 1:\n",
    "        output = f\"{minutes}m {seconds}s\"\n",
    "    if hours >= 1:\n",
    "        output = f\"{hours}h {minutes}m {seconds}s\"\n",
    "    return output\n",
    "\n",
    "class PairwiseDataset(Dataset):\n",
    "    def __init__(self, claims, evidences, labels, tokenizer, max_len):\n",
    "        self.claims = claims\n",
    "        self.evidences = evidences\n",
    "        self.labels = labels\n",
    "        self.tokenizer = tokenizer\n",
    "        self.max_len = max_len\n",
    "\n",
    "    def __len__(self):\n",
    "        return len(self.labels)\n",
    "\n",
    "    def __getitem__(self, idx):\n",
    "        claim = str(self.claims[idx])\n",
    "        evidence = str(self.evidences[idx])\n",
    "        label = self.labels[idx]\n",
    "\n",
    "        encoding = self.tokenizer(\n",
    "            claim,\n",
    "            evidence,\n",
    "            add_special_tokens=True,\n",
    "            truncation=True,\n",
    "            max_length=self.max_len,\n",
    "            padding='max_length',\n",
    "            return_tensors='pt'\n",
    "        )\n",
    "\n",
    "        return {\n",
    "            'claim': claim,\n",
    "            'evidence': evidence,\n",
    "            'input_ids': encoding['input_ids'].flatten(),\n",
    "            'attention_mask': encoding['attention_mask'].flatten(),\n",
    "            'label': torch.tensor(label, dtype=torch.long)\n",
    "        }"
   ],
   "id": "b96b040971da0e37",
   "outputs": [],
   "execution_count": 2
  },
  {
   "metadata": {},
   "cell_type": "markdown",
   "source": "# 2. Initialize model",
   "id": "bab09c4ca2a68ae1"
  },
  {
   "metadata": {
    "ExecuteTime": {
     "end_time": "2024-05-08T15:42:38.301461Z",
     "start_time": "2024-05-08T15:42:35.789740Z"
    }
   },
   "cell_type": "code",
   "source": [
    "# Initialize tokenizer and model\n",
    "tokenizer = BertTokenizer.from_pretrained('bert-base-uncased')\n",
    "model = BertForSequenceClassification.from_pretrained('bert-base-uncased')\n",
    "\n",
    "\n",
    "train_csv_file = 'training_data/training_data/ED/train.csv'\n",
    "claims, evidences, labels = read_data_from_csv(train_csv_file)\n",
    "\n",
    "# Split training and validation data 80/20\n",
    "claims_train, claims_val, evidences_train, evidences_val, labels_train, labels_val = train_test_split(\n",
    "    claims, evidences, labels, test_size=0.2, random_state=42\n",
    ")\n",
    "\n",
    "# Create datasets and dataloaders\n",
    "train_dataset = PairwiseDataset(claims_train, evidences_train, labels_train, tokenizer, max_len=128)\n",
    "val_dataset = PairwiseDataset(claims_val, evidences_val, labels_val, tokenizer, max_len=128)\n",
    "\n",
    "train_loader = DataLoader(train_dataset, batch_size=16, shuffle=True)\n",
    "val_loader = DataLoader(val_dataset, batch_size=16, shuffle=False)"
   ],
   "id": "41b76610bfe3c70e",
   "outputs": [
    {
     "name": "stderr",
     "output_type": "stream",
     "text": [
      "/usr/local/lib/python3.11/site-packages/huggingface_hub/file_download.py:1132: FutureWarning: `resume_download` is deprecated and will be removed in version 1.0.0. Downloads always resume when possible. If you want to force a new download, use `force_download=True`.\n",
      "  warnings.warn(\n"
     ]
    }
   ],
   "execution_count": 3
  },
  {
   "metadata": {},
   "cell_type": "markdown",
   "source": "# 3. Fine tuning",
   "id": "412b1bfee18a73e2"
  },
  {
   "metadata": {
    "jupyter": {
     "is_executing": true
    },
    "ExecuteTime": {
     "start_time": "2024-05-08T15:52:14.186033Z"
    }
   },
   "cell_type": "code",
   "source": [
    "# Fine-tuning parameters\n",
    "optimizer = torch.optim.AdamW(model.parameters(), lr=2e-5)\n",
    "epochs = 3\n",
    "\n",
    "# Fine-tuning loop\n",
    "for epoch in range(epochs):\n",
    "    print(f\"Epoch: {epoch + 1}\")\n",
    "    \n",
    "    start = time.time()\n",
    "    model.train()\n",
    "    total_loss = 0\n",
    "    \n",
    "    prev_elapsed = 0\n",
    "    est_timings = []\n",
    "    \n",
    "    print(\"Training\")\n",
    "    for i, batch in enumerate(train_loader):\n",
    "        curr_t = time.time() - start\n",
    "        est_timings.append(curr_t - prev_elapsed)\n",
    "        prev_elapsed = curr_t\n",
    "        est_timing = (sum(est_timings) / len(est_timings)) * (len(train_loader) - i)\n",
    "        print(f\"Training batch {i + 1}/{len(train_loader)}\\tElapsed: {time_string(curr_t)}\\t Est: {time_string(est_timing)}\\t\\t\", end=\"\\r\")\n",
    "        input_ids = batch['input_ids'].to(device)\n",
    "        attention_mask = batch['attention_mask'].to(device)\n",
    "        labels = batch['label'].to(device)\n",
    "\n",
    "        optimizer.zero_grad()\n",
    "\n",
    "        outputs = model(input_ids=input_ids, attention_mask=attention_mask, labels=labels)\n",
    "        loss = outputs.loss\n",
    "        loss.backward()\n",
    "        optimizer.step()\n",
    "\n",
    "        total_loss += loss.item()\n",
    "    \n",
    "    avg_train_loss = total_loss / len(train_loader)\n",
    "    print(f\"Epoch {epoch+1}/{epochs}, Average Training Loss: {avg_train_loss}\")\n",
    "    print(f\"Total training time {time.time() - start}\")\n",
    "\n",
    "    # Validation loop\n",
    "    start = time.time()\n",
    "    model.eval()\n",
    "    val_loss = 0\n",
    "    correct = 0\n",
    "    total = 0\n",
    "    \n",
    "    prev_elapsed = 0\n",
    "    est_timings = []\n",
    "    \n",
    "    print(\"Validation\")\n",
    "    with torch.no_grad():\n",
    "        for i, batch in enumerate(val_loader):\n",
    "            curr_t = time.time() - start\n",
    "            prev_elapsed = curr_t - prev_elapsed\n",
    "            est_timings.append(prev_elapsed)\n",
    "            est_timing = (sum(est_timings) / len(est_timings)) * (len(train_loader) - i)\n",
    "            print(f\"Validating batch {i + 1}/{len(train_loader)}\\tElapsed: {time_string(curr_t)}\\t Est: {time_string(est_timing)}\")\n",
    "            \n",
    "            input_ids = batch['input_ids'].to(device)\n",
    "            attention_mask = batch['attention_mask'].to(device)\n",
    "            labels = batch['label'].to(device)\n",
    "\n",
    "            outputs = model(input_ids=input_ids, attention_mask=attention_mask, labels=labels)\n",
    "            loss = outputs.loss\n",
    "            val_loss += loss.item()\n",
    "\n",
    "            _, predicted = torch.max(outputs.logits, 1)\n",
    "            total += labels.size(0)\n",
    "            correct += int(predicted == labels)\n",
    "\n",
    "    avg_val_loss = val_loss / len(val_loader)\n",
    "    val_accuracy = correct / total\n",
    "    print(f\"Epoch {epoch+1}/{epochs}, Validation Loss: {avg_val_loss}, Validation Accuracy: {val_accuracy}\")\n",
    "    \n",
    "model.save_pretrained(\"/model\")"
   ],
   "id": "740779b1ee209288",
   "outputs": [
    {
     "name": "stdout",
     "output_type": "stream",
     "text": [
      "Epoch: 1\n",
      "Training\n",
      "Training batch 249/1186\tElapsed: 21m 14s\t Est: 1h 19m 59s\t\t\rraining batch 236/1186\tElapsed: 20m 6s\t Est: 1h 21m 3s\t\tTraining batch 238/1186\tElapsed: 20m 17s\t Est: 1h 20m 53s\t\tTraining batch 240/1186\tElapsed: 20m 27s\t Est: 1h 20m 43s\t\tTraining batch 242/1186\tElapsed: 20m 37s\t Est: 1h 20m 33s\t\tTraining batch 244/1186\tElapsed: 20m 48s\t Est: 1h 20m 23s\t\tTraining batch 246/1186\tElapsed: 20m 58s\t Est: 1h 20m 13s\t\tTraining batch 248/1186\tElapsed: 21m 8s\t Est: 1h 20m 4s\t\tTraining batch 250/1186\tElapsed: 21m 19s\t Est: 1h 19m 56s\t\t\r"
     ]
    }
   ],
   "execution_count": null
  },
  {
   "metadata": {},
   "cell_type": "markdown",
   "source": "# 4. Testing",
   "id": "5d5d3268de569097"
  },
  {
   "metadata": {},
   "cell_type": "code",
   "source": [
    "test_csv_file = 'training_data/training_data/ED/test.csv'\n",
    "test_claims, test_evidences, test_labels = read_data_from_csv(test_csv_file)\n",
    "\n",
    "# Create test dataset\n",
    "test_dataset = PairwiseDataset(test_claims, test_evidences, test_labels, tokenizer, max_len=128)\n",
    "\n",
    "# Create test dataloader\n",
    "test_loader = DataLoader(test_dataset, batch_size=16, shuffle=False)\n",
    "\n",
    "# Perform inference\n",
    "model.eval()\n",
    "predicted_labels = []\n",
    "\n",
    "with torch.no_grad():\n",
    "    for batch in test_loader:\n",
    "        input_ids = batch['input_ids'].to(device)\n",
    "        attention_mask = batch['attention_mask'].to(device)\n",
    "\n",
    "        outputs = model(input_ids=input_ids, attention_mask=attention_mask)\n",
    "        _, batch_predicted_labels = torch.max(outputs.logits, 1)\n",
    "        predicted_labels.extend(batch_predicted_labels.cpu().tolist())\n",
    "\n",
    "# Calculate accuracy\n",
    "correct_predictions = sum(1 for pred, label in zip(predicted_labels, test_labels) if pred == label)\n",
    "accuracy = correct_predictions / len(test_labels)\n",
    "\n",
    "print(\"Predicted Labels:\", predicted_labels)\n",
    "print(\"True Labels:\", test_labels)\n",
    "print(\"Accuracy:\", accuracy)"
   ],
   "id": "e23ea62a0fe1671c",
   "outputs": [],
   "execution_count": null
  }
 ],
 "metadata": {
  "kernelspec": {
   "display_name": "Python 3",
   "language": "python",
   "name": "python3"
  },
  "language_info": {
   "codemirror_mode": {
    "name": "ipython",
    "version": 2
   },
   "file_extension": ".py",
   "mimetype": "text/x-python",
   "name": "python",
   "nbconvert_exporter": "python",
   "pygments_lexer": "ipython2",
   "version": "2.7.6"
  }
 },
 "nbformat": 4,
 "nbformat_minor": 5
}
